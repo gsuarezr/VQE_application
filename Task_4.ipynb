{
 "cells": [
  {
   "cell_type": "markdown",
   "metadata": {},
   "source": [
    "## First let us import the necessary modules we'll use [sympy](https://www.sympy.org/en/index.html) to factor the given hamiltonian in terms of tensor products of Pauli Matrices, both [numpy](https://numpy.org/) as [qiskit](https://qiskit.org/) to run the circuit, and [matplotlib](https://matplotlib.org/) to see plot the results for different values of our variational parameter"
   ]
  },
  {
   "cell_type": "code",
   "execution_count": 1,
   "metadata": {},
   "outputs": [],
   "source": [
    "import matplotlib.pyplot as plt\n",
    "import sympy as sp\n",
    "import numpy as np\n",
    "from qiskit import *"
   ]
  },
  {
   "cell_type": "markdown",
   "metadata": {},
   "source": [
    "## The first step is to decompose the matrix we want to solve, in terms of tensor product of [pauli operators](https://en.wikipedia.org/wiki/Pauli_matrices) , for that pourpose let us write a simple function that does this for any $4\\times4$ Matrix, that is written in terms of the combinations given in the clue II,ZZ,XX,YY"
   ]
  },
  {
   "cell_type": "code",
   "execution_count": 2,
   "metadata": {},
   "outputs": [],
   "source": [
    "def paulidecompos(Matriz):\n",
    "    x,y=Matriz.shape\n",
    "    sigmax=sp.Matrix([[0,1],[1,0]])\n",
    "    sigmay=sp.Matrix([[0,-sp.I],[sp.I,0]])\n",
    "    sigmaz=sp.Matrix([[1,0],[0,-1]])\n",
    "    Identity=sp.Matrix([[1,0],[0,1]])\n",
    "    if x==y:\n",
    "        II=sp.kronecker_product(Identity,Identity)\n",
    "        ZZ=sp.kronecker_product(sigmaz,sigmaz)\n",
    "        XX=sp.kronecker_product(sigmax,sigmax)\n",
    "        YY=sp.kronecker_product(sigmay,sigmay)\n",
    "        pauli=[II,ZZ,XX,YY]\n",
    "        tags=['II','ZZ','XX','YY']\n",
    "        elements=sp.symbols('a0:4')\n",
    "        general_m=sp.zeros(x)\n",
    "    else:\n",
    "        print('The input is not a square matrix')\n",
    "    for i in range(0,len(tags)):\n",
    "        general_m+=pauli[i]*elements[i]\n",
    "    decomposition=sp.solve(general_m-Matriz)\n",
    "    coeff={}\n",
    "    for i in range(len(tags)):\n",
    "        coeff[tags[i]]=decomposition[elements[i]]\n",
    "    return coeff"
   ]
  },
  {
   "cell_type": "markdown",
   "metadata": {},
   "source": [
    "## Now I simply write the matrix we are asked to decompose and call the function the output is a dictionary with the coefficients of each of the pauli matrices terms, we will use this dictionary in a function later"
   ]
  },
  {
   "cell_type": "code",
   "execution_count": 3,
   "metadata": {},
   "outputs": [],
   "source": [
    "Matriz=sp.Matrix([[1,0,0,0],[0,0,-1,0],[0,-1,0,0],[0,0,0,1]])"
   ]
  },
  {
   "cell_type": "code",
   "execution_count": 4,
   "metadata": {},
   "outputs": [],
   "source": [
    "coeff=paulidecompos(Matriz)"
   ]
  },
  {
   "cell_type": "code",
   "execution_count": 5,
   "metadata": {},
   "outputs": [
    {
     "data": {
      "text/plain": [
       "{'II': 1/2, 'ZZ': 1/2, 'XX': -1/2, 'YY': -1/2}"
      ]
     },
     "execution_count": 5,
     "metadata": {},
     "output_type": "execute_result"
    }
   ],
   "source": [
    "coeff"
   ]
  },
  {
   "cell_type": "markdown",
   "metadata": {},
   "source": [
    "## So the hamiltonian we are asked to decompose in terms of pauli operators can be written as: \n",
    "\n",
    "## $H=\\frac{1}{2} (I_{1}\\otimes I_{2}+Z_{1}\\otimes Z_{2}-Y_{1}\\otimes Y_{2}-X_{1}\\otimes X_{2})$. \n",
    "\n",
    "## This decomposition is important because it allows us to define the coeffiencies we are going to use for each expected value, let us ilustrate the point, first let us see that the eigenvalues of pauli matrices are either 1 or -1\n"
   ]
  },
  {
   "cell_type": "code",
   "execution_count": 6,
   "metadata": {},
   "outputs": [
    {
     "data": {
      "text/plain": [
       "{-1: 1, 1: 1}"
      ]
     },
     "execution_count": 6,
     "metadata": {},
     "output_type": "execute_result"
    }
   ],
   "source": [
    "sigmax=sp.Matrix([[0,1],[1,0]])\n",
    "sigmay=sp.Matrix([[0,-sp.I],[sp.I,0]])\n",
    "sigmaz=sp.Matrix([[1,0],[0,-1]])\n",
    "sigmax.eigenvals()"
   ]
  },
  {
   "cell_type": "code",
   "execution_count": 7,
   "metadata": {},
   "outputs": [
    {
     "data": {
      "text/plain": [
       "{-1: 1, 1: 1}"
      ]
     },
     "execution_count": 7,
     "metadata": {},
     "output_type": "execute_result"
    }
   ],
   "source": [
    "sigmay.eigenvals()"
   ]
  },
  {
   "cell_type": "code",
   "execution_count": 8,
   "metadata": {},
   "outputs": [
    {
     "data": {
      "text/plain": [
       "{1: 1, -1: 1}"
      ]
     },
     "execution_count": 8,
     "metadata": {},
     "output_type": "execute_result"
    }
   ],
   "source": [
    "sigmaz.eigenvals()"
   ]
  },
  {
   "cell_type": "markdown",
   "metadata": {},
   "source": [
    "## Now let us consider the expected value of our hamiltonian \n",
    "\n",
    "## $\\small<H>=\\frac{1}{2} (<I_{1}\\otimes I_{2}>+<Z_{1}\\otimes Z_{2}>-<Y_{1}\\otimes Y_{2}>-<X_{1}\\otimes X_{2}>)$ , \n",
    "\n",
    "## if you want to know more you can read [1](https://www.mustythoughts.com/variational-quantum-eigensolver-explained) and references therein, the states of a two qubit system are $|00\\rangle$,$|01\\rangle$,$|10\\rangle$,$|11\\rangle$ we are going to measure each expected value in its basis (see [1](https://www.mustythoughts.com/variational-quantum-eigensolver-explained)) so what happens is that we have the following:\n",
    "\n",
    "# $<ij|A_{1}A_{2}|ij>=a_{i}a_{j}<ij|ij> $\n",
    "\n",
    "## where A is any of the pauli operators, i and j are either 0 or 1,  $a_{i}$ is the eigenvalue of A on state $|i>$ then  since the eigenvalues of pauli matrices are 1 and -1 we have two cases:\n",
    "\n",
    "## when i=j then \n",
    "# $<ii|A_{1}A_{2}|ii>=a_{i}a_{i}<ii|ii>=1 $ \n",
    "\n",
    "## when $i\\neq j$ then\n",
    "# $<ij|A_{1}A_{2}|ij>=a_{i}a_{j}<ij|ij>=-1 $"
   ]
  },
  {
   "cell_type": "markdown",
   "metadata": {},
   "source": [
    "## Now let us write the expectation value in a more suitable form to implement in the circuit using a projector, since H is hermitian can be diagonalized by\n",
    "\n",
    "#$A = \\sum_{i}\\lambda_i |v_i\\rangle \\langle v_i|= U^\\dagger \\Lambda U$ \n",
    "\n",
    "## where $\\Lambda$ is a diagonal matrix and $U$ an unitary operator, that's because:\n",
    "\n",
    "# $\\langle\\psi|H|\\psi\\rangle = \\langle\\psi|U^\\dagger \\Lambda U|\\psi\\rangle = \\langle\\psi'|\\Lambda|\\psi'\\rangle$\n",
    "\n",
    "## so we are free to measure in the computaional basis provided that we implement the necesary unitaries, using two projectors we see that \n",
    "\n",
    "# $ \\langle \\psi | H | \\psi\\rangle = \\langle\\psi'|\\Lambda|\\psi'\\rangle = \\sum_{i,j} \\langle\\psi'|i\\rangle \\langle i | \\Lambda | j\\rangle \\langle j|\\psi'\\rangle = \\sum_{i,j} \\lambda_i\\langle\\psi'|i\\rangle \\langle i | j\\rangle \\langle j|\\psi'\\rangle =\\sum_{i,j} \\lambda_i\\langle\\psi'|i\\rangle \\delta_{ij} \\langle j|\\psi'\\rangle =\\sum_{i} \\lambda_i|\\langle\\psi'|i\\rangle|^{2} $ \n",
    "\n",
    "## where $|\\langle\\psi'|i\\rangle|^{2}$ is the probability that we measure the state i, which is given by $\\frac{N_{i}}{N}$ where $N_{i}$ is the number of times we measured the state i and $N$ the total number of measurements, as discussed above $\\lambda_{1}$ is 1 for '00' and '11' and -1 for '01' and '01'"
   ]
  },
  {
   "cell_type": "markdown",
   "metadata": {},
   "source": [
    "## The $|\\psi'\\rangle$ state is our ansatz (see see [1](https://www.mustythoughts.com/variational-quantum-eigensolver-explained)). We will use the ansatz that was provided as a clue, that is $RX_{1}(\\theta)\\otimes I_{2} CX H_{1}\\otimes I_{2}$ where RX is the rotation in X gate, CX is a CNOT gate, H is a hadamard gate, and I is the identity, the subindices denote the qubit they act on, let us visualize the circuit that implements such an ansatz, I will select a particular value of $\\theta$ just for the visualization"
   ]
  },
  {
   "cell_type": "code",
   "execution_count": 9,
   "metadata": {},
   "outputs": [
    {
     "data": {
      "image/png": "[encoded data removed]",
      "text/plain": [
       "<Figure size 321.232x204.68 with 1 Axes>"
      ]
     },
     "execution_count": 9,
     "metadata": {},
     "output_type": "execute_result"
    }
   ],
   "source": [
    "circuit=QuantumCircuit(2,2)\n",
    "circuit.h(0)\n",
    "circuit.cx(0, 1)\n",
    "circuit.rx(np.pi, 0)\n",
    "circuit.draw('mpl')"
   ]
  },
  {
   "cell_type": "markdown",
   "metadata": {},
   "source": [
    "# We now implement this ansatz as a python function, Why ? so it can be called upon to use theta as a parameter, as qiskit doesn't allow the RX parameter to be a variable"
   ]
  },
  {
   "cell_type": "code",
   "execution_count": 10,
   "metadata": {},
   "outputs": [],
   "source": [
    "def ansatz(circuit, theta):\n",
    "    q = circuit.qregs[0]\n",
    "    circuit.h(q[0])\n",
    "    circuit.cx(q[0], q[1])\n",
    "    circuit.rx(theta, q[0])\n",
    "    return circuit"
   ]
  },
  {
   "cell_type": "markdown",
   "metadata": {},
   "source": [
    "# Next we implement a function sets up the measurement in the desired basis, for that wecall the function that implements our ansatz and we then add the unitaries needed to be in the desired basis, we return the quantum circuit necessary for the VQE"
   ]
  },
  {
   "cell_type": "code",
   "execution_count": 11,
   "metadata": {},
   "outputs": [],
   "source": [
    "def two_qubit_vqe(theta, basis):\n",
    "    q = QuantumRegister(2)\n",
    "    c = ClassicalRegister(2)\n",
    "    circuit = QuantumCircuit(q, c)\n",
    "\n",
    "    # implement the ansate in the circuit\n",
    "    circuit = ansatz(circuit, theta)\n",
    "    # measurement\n",
    "    if basis == 'Z':\n",
    "        circuit.measure(q, c)\n",
    "    elif basis == 'X':\n",
    "        circuit.u2(0, np.pi, q[0])\n",
    "        circuit.u2(0, np.pi, q[1])\n",
    "        circuit.measure(q[0], c[0])\n",
    "        circuit.measure(q[1], c[1])\n",
    "    elif basis == 'Y':\n",
    "        circuit.u2(0, np.pi/2, q[0])\n",
    "        circuit.u2(0, np.pi/2, q[1])\n",
    "        circuit.measure(q[0], c[0])\n",
    "        circuit.measure(q[1], c[1])\n",
    "    else:\n",
    "        raise ValueError('Not a valid pauli basis, input should be X,Y or Z, we excluded I because no circuit is needed')\n",
    "\n",
    "    return circuit\n"
   ]
  },
  {
   "cell_type": "markdown",
   "metadata": {},
   "source": [
    "# Now we define a function that runs the circuit and calculates the expectation value from the probabilities of each state we measured"
   ]
  },
  {
   "cell_type": "code",
   "execution_count": 12,
   "metadata": {},
   "outputs": [],
   "source": [
    "def get_expectation(theta, basis):\n",
    "    \n",
    "    if basis == 'I':\n",
    "        return 1\n",
    "    elif basis == 'Z':\n",
    "        circuit = two_qubit_vqe(theta, 'Z')\n",
    "    elif basis == 'X':\n",
    "        circuit = two_qubit_vqe(theta, 'X')\n",
    "    elif basis == 'Y':\n",
    "        circuit = two_qubit_vqe(theta, 'Y')\n",
    "    else:\n",
    "        raise ValueError('Not a valid pauli basis, input should be I,X,Y or Z')\n",
    "    \n",
    "    shots = 1996 # My birthyear c:\n",
    "    backend = BasicAer.get_backend('qasm_simulator')\n",
    "    job = execute(circuit, backend, shots=shots)\n",
    "    result = job.result()\n",
    "    counts = result.get_counts()\n",
    "    \n",
    "    expected_value = 0\n",
    "    for event in counts:\n",
    "        pm = 1\n",
    "        if event == '01':\n",
    "            pm = -1\n",
    "        if event == '10':\n",
    "            pm = -1\n",
    "        expected_value += pm * counts[event] / shots\n",
    "        \n",
    "    return expected_value"
   ]
  },
  {
   "cell_type": "markdown",
   "metadata": {},
   "source": [
    "# Finally we write a function that calls the previous ones, measures runs a circuit for each basis and sums the results times the coefficient that acompanies each term in our hamiltonian for any given value of our variational parameter"
   ]
  },
  {
   "cell_type": "code",
   "execution_count": 13,
   "metadata": {},
   "outputs": [],
   "source": [
    "def vqe_ground(theta):\n",
    "        \n",
    "    ground_I = coeff['II']*get_expectation(theta, 'I')\n",
    "    ground_Z = coeff['ZZ']*get_expectation(theta, 'Z')\n",
    "    ground_X = coeff['XX']*get_expectation(theta, 'X')\n",
    "    ground_Y = coeff['YY']*get_expectation(theta, 'Y')\n",
    "    \n",
    "    # summing the measurement results\n",
    "    sum_ = ground_I+ground_Z+ground_X+ground_Y\n",
    "    \n",
    "    return sum_"
   ]
  },
  {
   "cell_type": "markdown",
   "metadata": {},
   "source": [
    "# Since our ansatz has only one parameter $\\theta$ and it can take values from 0 to $2 \\pi$, to find the minimum we simply plot the calculated ground state energy, vs the value of $theta$"
   ]
  },
  {
   "cell_type": "code",
   "execution_count": 14,
   "metadata": {},
   "outputs": [],
   "source": [
    "theta=np.arange(-np.pi,np.pi,np.pi/64)\n",
    "E_0 = [ vqe_ground(i) for i in theta]\n"
   ]
  },
  {
   "cell_type": "code",
   "execution_count": 15,
   "metadata": {},
   "outputs": [
    {
     "data": {
      "image/png": "[encoded data removed]",
      "text/plain": [
       "<Figure size 432x288 with 1 Axes>"
      ]
     },
     "metadata": {
      "needs_background": "light"
     },
     "output_type": "display_data"
    }
   ],
   "source": [
    "plt.plot(theta,E_0)\n",
    "plt.xlabel(r'$\\theta$',fontsize=25)\n",
    "plt.ylabel(r'$E_{0}$',fontsize=25)\n",
    "plt.xticks(np.arange(-np.pi,np.pi+1, step=np.pi/2),[r'$-\\pi$',r'$\\frac{-\\pi}{2}$',r'$0$',r'$\\frac{\\pi}{2}$',r'$\\pi$'],fontsize=13)\n",
    "plt.show()"
   ]
  },
  {
   "cell_type": "markdown",
   "metadata": {},
   "source": [
    "# In case $E_{0}$ is not clear from the plot we call the min function on the values we plotted, and compare with the eigenvalues of the matrix"
   ]
  },
  {
   "cell_type": "code",
   "execution_count": 17,
   "metadata": {},
   "outputs": [
    {
     "data": {
      "text/latex": [
       "$\\displaystyle -1.0$"
      ],
      "text/plain": [
       "-1.00000000000000"
      ]
     },
     "execution_count": 17,
     "metadata": {},
     "output_type": "execute_result"
    }
   ],
   "source": [
    "min(E_0)"
   ]
  },
  {
   "cell_type": "code",
   "execution_count": 18,
   "metadata": {},
   "outputs": [
    {
     "data": {
      "text/plain": [
       "{-1: 1, 1: 3}"
      ]
     },
     "execution_count": 18,
     "metadata": {},
     "output_type": "execute_result"
    }
   ],
   "source": [
    "Matriz.eigenvals()"
   ]
  }
 ],
 "metadata": {
  "kernelspec": {
   "display_name": "Python 3",
   "language": "python",
   "name": "python3"
  },
  "language_info": {
   "codemirror_mode": {
    "name": "ipython",
    "version": 3
   },
   "file_extension": ".py",
   "mimetype": "text/x-python",
   "name": "python",
   "nbconvert_exporter": "python",
   "pygments_lexer": "ipython3",
   "version": "3.8.3"
  }
 },
 "nbformat": 4,
 "nbformat_minor": 4
}
