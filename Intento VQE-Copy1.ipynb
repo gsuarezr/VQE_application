{
 "cells": [
  {
   "cell_type": "code",
   "execution_count": 92,
   "metadata": {},
   "outputs": [],
   "source": [
    "import sympy as sp\n",
    "import numpy as np"
   ]
  },
  {
   "cell_type": "markdown",
   "metadata": {},
   "source": [
    "# The first step is to decompose the matrix we want to solve, in terms of tensor product of pauli operators , for that pourpose let us write a simple function that does this for any $4\\times4$ Matrix, this function is pretty simple it computes the linear superposition of the 16 possible combinations and solves the system of equations so we have the coefficients for each of the combinations that would yield our matrix"
   ]
  },
  {
   "cell_type": "code",
   "execution_count": 115,
   "metadata": {},
   "outputs": [],
   "source": [
    "def rando_SU2():\n",
    "    x,y=Matriz.shape\n",
    "    sigmax=sp.Matrix([[0,1],[1,0]])\n",
    "    sigmay=sp.Matrix([[0,-sp.I],[sp.I,0]])\n",
    "    sigmaz=sp.Matrix([[1,0],[0,-1]])\n",
    "    Identity=sp.Matrix([[1,0],[0,1]])\n",
    "    if x==y:\n",
    "        II=sp.kronecker_product(Identity,Identity)\n",
    "        IZ=sp.kronecker_product(Identity,sigmaz)\n",
    "        IX=sp.kronecker_product(Identity,sigmax)\n",
    "        IY=sp.kronecker_product(Identity,sigmay)\n",
    "        ZI=sp.kronecker_product(sigmaz,Identity)\n",
    "        ZZ=sp.kronecker_product(sigmaz,sigmaz)\n",
    "        ZX=sp.kronecker_product(sigmaz,sigmax)\n",
    "        ZY=sp.kronecker_product(sigmaz,sigmay)\n",
    "        XI=sp.kronecker_product(sigmax,Identity)\n",
    "        XZ=sp.kronecker_product(sigmax,sigmaz)\n",
    "        XX=sp.kronecker_product(sigmax,sigmax)\n",
    "        XY=sp.kronecker_product(sigmax,sigmay)\n",
    "        YI=sp.kronecker_product(sigmay,Identity)\n",
    "        YZ=sp.kronecker_product(sigmay,sigmaz)\n",
    "        YX=sp.kronecker_product(sigmay,sigmax)\n",
    "        YY=sp.kronecker_product(sigmay,sigmay)\n",
    "        facundo=[II,IZ,IX,IY,ZI,ZZ,ZX,ZY,XI,XZ,XX,XY,YI,YZ,YX,YY]\n",
    "        elementos=np.random.rand(16,1)\n",
    "        reta=sp.zeros(x)\n",
    "    else:\n",
    "        print('The input is not a square matrix')\n",
    "    for i in range(0,len(facundo)):\n",
    "        reta+=facundo[i]*elementos[i]\n",
    "    #coef_II=wawa[elementos[0]]\n",
    "    #coef_ZZ=wawa[elementos[1]]\n",
    "    #coef_XX=wawa[elementos[2]]\n",
    "    #coef_YY=wawa[elementos[3]]\n",
    "    return reta"
   ]
  },
  {
   "cell_type": "code",
   "execution_count": 116,
   "metadata": {},
   "outputs": [],
   "source": [
    "a=rando_SU2()"
   ]
  },
  {
   "cell_type": "code",
   "execution_count": 117,
   "metadata": {},
   "outputs": [],
   "source": [
    "a=(a+sp.conjugate(a.T))/2"
   ]
  },
  {
   "cell_type": "code",
   "execution_count": 118,
   "metadata": {},
   "outputs": [
    {
     "data": {
      "text/plain": [
       "True"
      ]
     },
     "execution_count": 118,
     "metadata": {},
     "output_type": "execute_result"
    }
   ],
   "source": [
    "a==sp.conjugate(a.T)"
   ]
  },
  {
   "cell_type": "code",
   "execution_count": 119,
   "metadata": {},
   "outputs": [],
   "source": [
    "def paulidecompos(Matriz):\n",
    "    x,y=Matriz.shape\n",
    "    sigmax=sp.Matrix([[0,1],[1,0]])\n",
    "    sigmay=sp.Matrix([[0,-sp.I],[sp.I,0]])\n",
    "    sigmaz=sp.Matrix([[1,0],[0,-1]])\n",
    "    Identity=sp.Matrix([[1,0],[0,1]])\n",
    "    if x==y:\n",
    "        II=sp.kronecker_product(Identity,Identity)\n",
    "        IZ=sp.kronecker_product(Identity,sigmaz)\n",
    "        IX=sp.kronecker_product(Identity,sigmax)\n",
    "        IY=sp.kronecker_product(Identity,sigmay)\n",
    "        ZI=sp.kronecker_product(sigmaz,Identity)\n",
    "        ZZ=sp.kronecker_product(sigmaz,sigmaz)\n",
    "        ZX=sp.kronecker_product(sigmaz,sigmax)\n",
    "        ZY=sp.kronecker_product(sigmaz,sigmay)\n",
    "        XI=sp.kronecker_product(sigmax,Identity)\n",
    "        XZ=sp.kronecker_product(sigmax,sigmaz)\n",
    "        XX=sp.kronecker_product(sigmax,sigmax)\n",
    "        XY=sp.kronecker_product(sigmax,sigmay)\n",
    "        YI=sp.kronecker_product(sigmay,Identity)\n",
    "        YZ=sp.kronecker_product(sigmay,sigmaz)\n",
    "        YX=sp.kronecker_product(sigmay,sigmax)\n",
    "        YY=sp.kronecker_product(sigmay,sigmay)\n",
    "        facundo=[II,IZ,IX,IY,ZI,ZZ,ZX,ZY,XI,XZ,XX,XY,YI,YZ,YX,YY]\n",
    "        #facundo=[II,ZZ,XX,YY]\n",
    "        elementos=sp.symbols('a0:16')\n",
    "        reta=sp.zeros(x)\n",
    "    else:\n",
    "        print('The input is not a square matrix')\n",
    "    for i in range(0,len(facundo)):\n",
    "        reta+=facundo[i]*elementos[i]\n",
    "    wawa=sp.solve(reta-Matriz)\n",
    "    #coef_II=wawa[elementos[0]]\n",
    "    #coef_ZZ=wawa[elementos[1]]\n",
    "    #coef_XX=wawa[elementos[2]]\n",
    "    #coef_YY=wawa[elementos[3]]\n",
    "    return wawa"
   ]
  },
  {
   "cell_type": "code",
   "execution_count": 120,
   "metadata": {},
   "outputs": [],
   "source": [
    "Matriz=sp.Matrix([[1,0,0,0],[0,0,-1,0],[0,-1,0,0],[0,0,0,1]])\n",
    "lala=paulidecompos(a)"
   ]
  },
  {
   "cell_type": "code",
   "execution_count": 121,
   "metadata": {},
   "outputs": [
    {
     "name": "stdout",
     "output_type": "stream",
     "text": [
      "The coefficient for II is 0.587258383423317\n",
      "The coefficient for IZ is 0.711586538241889\n",
      "The coefficient for IX is 0.124786430303803\n",
      "The coefficient for IY is 0.953183250102573\n",
      "The coefficient for ZI is 0.801005236074818\n",
      "The coefficient for ZZ is 0.771300217390126\n",
      "The coefficient for ZX is 0.563581297820169\n",
      "The coefficient for ZY is 0.182287564189387\n",
      "The coefficient for XI is 0.231924233429429\n",
      "The coefficient for XZ is 0.491413114012572\n",
      "The coefficient for XX is 0.479531936705990\n",
      "The coefficient for XY is 0.781763374413668\n",
      "The coefficient for YI is 0.947611766416190\n",
      "The coefficient for YZ is 0.694425523764709\n",
      "The coefficient for YX is 0.553961310236932\n",
      "The coefficient for YY is 0.964795463855159\n"
     ]
    }
   ],
   "source": [
    "facundo=['II','IZ','IX','IY','ZI','ZZ','ZX','ZY','XI','XZ','XX','XY','YI','YZ','YX','YY']\n",
    "elementos=sp.symbols('a0:16')\n",
    "coeff={}\n",
    "for i in range(len(facundo)):\n",
    "    print('The coefficient for '+facundo[i]+' is '+str(round(lala[elementos[i]],)))\n",
    "    coeff[facundo[i]]=lala[elementos[i]]"
   ]
  },
  {
   "cell_type": "code",
   "execution_count": 122,
   "metadata": {},
   "outputs": [
    {
     "data": {
      "text/plain": [
       "{'II': 0.587258383423317,\n",
       " 'IZ': 0.711586538241889,\n",
       " 'IX': 0.124786430303803,\n",
       " 'IY': 0.953183250102573,\n",
       " 'ZI': 0.801005236074818,\n",
       " 'ZZ': 0.771300217390126,\n",
       " 'ZX': 0.563581297820169,\n",
       " 'ZY': 0.182287564189387,\n",
       " 'XI': 0.231924233429429,\n",
       " 'XZ': 0.491413114012572,\n",
       " 'XX': 0.479531936705990,\n",
       " 'XY': 0.781763374413668,\n",
       " 'YI': 0.947611766416190,\n",
       " 'YZ': 0.694425523764709,\n",
       " 'YX': 0.553961310236932,\n",
       " 'YY': 0.964795463855159}"
      ]
     },
     "execution_count": 122,
     "metadata": {},
     "output_type": "execute_result"
    }
   ],
   "source": [
    "coeff"
   ]
  },
  {
   "cell_type": "markdown",
   "metadata": {},
   "source": [
    "# So the hamiltonian we are asked to decompose in terms of pauli operators can be written as $H=\\frac{1}{2} (I_{1}\\otimes I_{2}+Z_{1}\\otimes Z_{2}-Y_{1}\\otimes Y_{2}-X_{1}\\otimes X_{2})$, this hamiltonian has four parts namely:\n",
    "\n",
    "$H_{1}=X_{1}\\otimes X_{2}$,$H_{2}=Y_{1}\\otimes Y_{2}$,$H_{3}=Z_{1}\\otimes Z_{2}$,$H_{4}=I_{1}\\otimes I_{2}$"
   ]
  },
  {
   "cell_type": "code",
   "execution_count": 123,
   "metadata": {},
   "outputs": [],
   "source": [
    "ppp=abs(a)"
   ]
  },
  {
   "cell_type": "code",
   "execution_count": 124,
   "metadata": {},
   "outputs": [
    {
     "data": {
      "text/plain": [
       "{4.81518704957602 - 3.04679071623029e-64*I: 1,\n",
       " 0.525809158343994 - 1.4653936691699e-64*I: 1,\n",
       " -2.01056307132851 - 3.26859690962891e-64*I: 1,\n",
       " -0.98139960289823 + 1.97449315926423e-64*I: 1}"
      ]
     },
     "execution_count": 124,
     "metadata": {},
     "output_type": "execute_result"
    }
   ],
   "source": [
    "a.eigenvals()"
   ]
  },
  {
   "cell_type": "code",
   "execution_count": 9,
   "metadata": {},
   "outputs": [],
   "source": [
    "sigmax=sp.Matrix([[0,1],[1,0]])\n",
    "sigmay=sp.Matrix([[0,-sp.I],[sp.I,0]])\n",
    "sigmaz=sp.Matrix([[1,0],[0,-1]])\n",
    "Identity=sp.Matrix([[1,0],[0,1]])"
   ]
  },
  {
   "cell_type": "code",
   "execution_count": 10,
   "metadata": {},
   "outputs": [
    {
     "data": {
      "text/plain": [
       "{-1: 1, 1: 1}"
      ]
     },
     "execution_count": 10,
     "metadata": {},
     "output_type": "execute_result"
    }
   ],
   "source": [
    "sigmax.eigenvals()"
   ]
  },
  {
   "cell_type": "code",
   "execution_count": 11,
   "metadata": {},
   "outputs": [
    {
     "data": {
      "text/plain": [
       "{-1: 1, 1: 1}"
      ]
     },
     "execution_count": 11,
     "metadata": {},
     "output_type": "execute_result"
    }
   ],
   "source": [
    "sigmay.eigenvals()"
   ]
  },
  {
   "cell_type": "code",
   "execution_count": 12,
   "metadata": {},
   "outputs": [
    {
     "data": {
      "text/plain": [
       "{1: 1, -1: 1}"
      ]
     },
     "execution_count": 12,
     "metadata": {},
     "output_type": "execute_result"
    }
   ],
   "source": [
    "sigmaz.eigenvals()"
   ]
  },
  {
   "cell_type": "markdown",
   "metadata": {},
   "source": [
    "# We will use the ansatz that was provided as a clue, that is $RX_{1}(\\theta)\\otimes I_{2} CX H_{1}\\otimes I_{2}$ where RX is the rotation in X gate, CX is a CNOT gate, H is a hadamard gate, and I is the identity, the subindices denote the qubit they act on, let us visualize the circuit that implements such an ansatz, I will select a particular value of $\\theta$ just for the visualization"
   ]
  },
  {
   "cell_type": "code",
   "execution_count": 125,
   "metadata": {},
   "outputs": [],
   "source": [
    "from qiskit import *"
   ]
  },
  {
   "cell_type": "code",
   "execution_count": 126,
   "metadata": {},
   "outputs": [
    {
     "data": {
      "image/png": "[encoded data removed]",
      "text/plain": [
       "<Figure size 321.232x204.68 with 1 Axes>"
      ]
     },
     "execution_count": 126,
     "metadata": {},
     "output_type": "execute_result"
    }
   ],
   "source": [
    "circuit=QuantumCircuit(2,2)\n",
    "circuit.h(0)\n",
    "circuit.cx(0, 1)\n",
    "circuit.rx(np.pi, 0)\n",
    "circuit.draw('mpl')"
   ]
  },
  {
   "cell_type": "markdown",
   "metadata": {},
   "source": [
    "# We now implement this ansatz as a python function, Why ? so it can be called upon to use theta as a parameter, as qiskit doesn't allow the RX parameter to be a variable"
   ]
  },
  {
   "cell_type": "code",
   "execution_count": 127,
   "metadata": {},
   "outputs": [],
   "source": [
    "def ansatz(circuit, theta):\n",
    "    q = circuit.qregs[0]\n",
    "    circuit.h(q[0])\n",
    "    circuit.cx(q[0], q[1])\n",
    "    circuit.rx(theta, q[0])\n",
    "    return circuit"
   ]
  },
  {
   "cell_type": "code",
   "execution_count": 128,
   "metadata": {},
   "outputs": [],
   "source": [
    "def two_qubit_vqe(theta, basis):\n",
    "    q = QuantumRegister(2)\n",
    "    c = ClassicalRegister(2)\n",
    "    circuit = QuantumCircuit(q, c)\n",
    "\n",
    "    # implement the ansate in the circuit\n",
    "    circuit = ansatz(circuit, theta)\n",
    "    # measurement\n",
    "    if basis == 'ZZ':\n",
    "        circuit.measure(q, c)\n",
    "    elif basis == 'XX':\n",
    "        circuit.u2(0, np.pi, q[0])\n",
    "        circuit.u2(0, np.pi, q[1])\n",
    "        circuit.measure(q[0], c[0])\n",
    "        circuit.measure(q[1], c[1])\n",
    "    elif basis == 'YY':\n",
    "        circuit.u2(0, np.pi/2, q[0])\n",
    "        circuit.u2(0, np.pi/2, q[1])\n",
    "        circuit.measure(q[0], c[0])\n",
    "        circuit.measure(q[1], c[1])\n",
    "    elif basis == 'IX':\n",
    "        circuit.u2(0, np.pi, q[1])\n",
    "        circuit.measure(q[0], c[0])\n",
    "        circuit.measure(q[1], c[1])\n",
    "    elif basis == 'IY':\n",
    "        circuit.u2(0, np.pi/2, q[1])\n",
    "        circuit.measure(q[0], c[0])\n",
    "        circuit.measure(q[1], c[1])\n",
    "    elif basis == 'IZ':\n",
    "        circuit.measure(q[0], c[0])\n",
    "        circuit.measure(q[1], c[1])\n",
    "    elif basis == 'ZI':\n",
    "        circuit.measure(q[0], c[0])\n",
    "        circuit.measure(q[1], c[1])\n",
    "    elif basis == 'ZX':\n",
    "        circuit.u2(0, np.pi, q[1])\n",
    "        circuit.measure(q[0], c[0])\n",
    "        circuit.measure(q[1], c[1])\n",
    "    elif basis == 'ZY':\n",
    "        circuit.u2(0, np.pi/2, q[1])\n",
    "        circuit.measure(q[0], c[0])\n",
    "        circuit.measure(q[1], c[1])\n",
    "    elif basis == 'XI':\n",
    "        circuit.u2(0, np.pi, q[0])\n",
    "        circuit.measure(q[0], c[0])\n",
    "        circuit.measure(q[1], c[1])\n",
    "    elif basis == 'XZ':\n",
    "        circuit.u2(0, np.pi, q[0])\n",
    "        circuit.measure(q[0], c[0])\n",
    "        circuit.measure(q[1], c[1])\n",
    "    elif basis == 'XX':\n",
    "        circuit.u2(0, np.pi, q[0])\n",
    "        circuit.u2(0, np.pi, q[1])\n",
    "        circuit.measure(q[0], c[0])\n",
    "        circuit.measure(q[1], c[1])\n",
    "    elif basis == 'XY':\n",
    "        circuit.u2(0, np.pi, q[0])\n",
    "        circuit.u2(0, np.pi/2, q[1])\n",
    "        circuit.measure(q[0], c[0])\n",
    "        circuit.measure(q[1], c[1])\n",
    "    elif basis == 'YZ':\n",
    "        circuit.u2(0, np.pi/2, q[0])\n",
    "        circuit.measure(q[0], c[0])\n",
    "        circuit.measure(q[1], c[1])\n",
    "    elif basis == 'YI':\n",
    "        circuit.u2(0, np.pi/2, q[0])\n",
    "        circuit.measure(q[0], c[0])\n",
    "        circuit.measure(q[1], c[1])\n",
    "    elif basis == 'YX':\n",
    "        circuit.u2(0, np.pi/2, q[0])\n",
    "        circuit.u2(0, np.pi, q[1])\n",
    "        circuit.measure(q[0], c[0])\n",
    "        circuit.measure(q[1], c[1])\n",
    "    else:\n",
    "        raise ValueError('Not a valid pauli basis, input should be X,Y or Z, we excluded I because no circuit is needed')\n",
    "\n",
    "    return circuit\n"
   ]
  },
  {
   "cell_type": "code",
   "execution_count": 146,
   "metadata": {},
   "outputs": [],
   "source": [
    "def get_expectation(theta, basis):\n",
    "    \n",
    "    if basis == 'II':\n",
    "        return 1\n",
    "    else:\n",
    "        circuit = two_qubit_vqe(theta, basis)\n",
    "    \n",
    "    shots = 65536 # My birthyear c:\n",
    "    backend = BasicAer.get_backend('qasm_simulator')\n",
    "    job = execute(circuit, backend, shots=shots)\n",
    "    result = job.result()\n",
    "    counts = result.get_counts()\n",
    "    \n",
    "    expected_value = 0\n",
    "    for event in counts:\n",
    "        pm = 1\n",
    "        if event == '01':\n",
    "            pm = -1\n",
    "        if event == '10':\n",
    "            pm = -1\n",
    "        expected_value += pm * counts[event] / shots\n",
    "        \n",
    "    return expected_value"
   ]
  },
  {
   "cell_type": "code",
   "execution_count": 147,
   "metadata": {},
   "outputs": [],
   "source": [
    "def vqe_ground(theta):\n",
    "    sum_=0\n",
    "    for i in facundo:\n",
    "         sum_+=coeff[i]*get_expectation(theta, i)\n",
    "\n",
    "    \n",
    "    # summing the measurement results    \n",
    "    return sum_"
   ]
  },
  {
   "cell_type": "code",
   "execution_count": 148,
   "metadata": {},
   "outputs": [
    {
     "data": {
      "text/latex": [
       "$\\displaystyle -0.253607819133672$"
      ],
      "text/plain": [
       "-0.253607819133672"
      ]
     },
     "execution_count": 148,
     "metadata": {},
     "output_type": "execute_result"
    }
   ],
   "source": [
    "vqe_ground(np.pi)"
   ]
  },
  {
   "cell_type": "code",
   "execution_count": 149,
   "metadata": {},
   "outputs": [],
   "source": [
    "import numpy as np\n",
    "theta2=sp.Symbol('theta2',real=True)"
   ]
  },
  {
   "cell_type": "code",
   "execution_count": 150,
   "metadata": {},
   "outputs": [],
   "source": [
    "xxxx=np.arange(-np.pi,np.pi,np.pi/64)\n",
    "vqeeee = [ vqe_ground(i) for i in xxxx]\n"
   ]
  },
  {
   "cell_type": "code",
   "execution_count": 151,
   "metadata": {},
   "outputs": [
    {
     "data": {
      "image/png": "[encoded data removed]",
      "text/plain": [
       "<Figure size 432x288 with 1 Axes>"
      ]
     },
     "metadata": {
      "needs_background": "light"
     },
     "output_type": "display_data"
    }
   ],
   "source": [
    "import matplotlib.pyplot as plt\n",
    "plt.plot(xxxx,vqeeee)\n",
    "plt.show()"
   ]
  },
  {
   "cell_type": "code",
   "execution_count": 152,
   "metadata": {},
   "outputs": [
    {
     "data": {
      "text/latex": [
       "$\\displaystyle -2.01109934708634$"
      ],
      "text/plain": [
       "-2.01109934708634"
      ]
     },
     "execution_count": 152,
     "metadata": {},
     "output_type": "execute_result"
    }
   ],
   "source": [
    "min(vqeeee)"
   ]
  },
  {
   "cell_type": "code",
   "execution_count": null,
   "metadata": {},
   "outputs": [],
   "source": []
  },
  {
   "cell_type": "code",
   "execution_count": null,
   "metadata": {},
   "outputs": [],
   "source": []
  },
  {
   "cell_type": "code",
   "execution_count": null,
   "metadata": {},
   "outputs": [],
   "source": []
  }
 ],
 "metadata": {
  "kernelspec": {
   "display_name": "Python 3",
   "language": "python",
   "name": "python3"
  },
  "language_info": {
   "codemirror_mode": {
    "name": "ipython",
    "version": 3
   },
   "file_extension": ".py",
   "mimetype": "text/x-python",
   "name": "python",
   "nbconvert_exporter": "python",
   "pygments_lexer": "ipython3",
   "version": "3.8.3"
  }
 },
 "nbformat": 4,
 "nbformat_minor": 4
}
