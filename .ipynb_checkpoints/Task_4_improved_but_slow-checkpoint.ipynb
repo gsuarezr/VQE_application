{
 "cells": [
  {
   "cell_type": "markdown",
   "metadata": {},
   "source": [
    "## This notebook is just an improved version of another one in the same repo, by improved I mean that the Hamiltonian icludes all possible combinations of Pauli terms,  I did it maily because I wanted to explore how the ansatz would work for other hamiltonians, and if a bigger number of expected values would impact the accuracy of the estimation, I also made a little function that generates a random Hermitian matrix, to use as Hamiltonian"
   ]
  },
  {
   "cell_type": "code",
   "execution_count": 11,
   "metadata": {},
   "outputs": [],
   "source": [
    "import sympy as sp\n",
    "import numpy as np\n",
    "from qiskit import *"
   ]
  },
  {
   "cell_type": "markdown",
   "metadata": {},
   "source": [
    "# This is the function to generate a random hermitian matrix written in terms of pauli matrices"
   ]
  },
  {
   "cell_type": "code",
   "execution_count": 46,
   "metadata": {},
   "outputs": [],
   "source": [
    "def rando_hermitian():\n",
    "    sigmax=np.array([[0,1],[1,0]])\n",
    "    sigmay=np.array([[0,-1j],[1j,0]])\n",
    "    sigmaz=np.array([[1,0],[0,-1]])\n",
    "    Identity=np.array([[1,0],[0,1]])\n",
    "    II=np.kron(Identity,Identity)\n",
    "    IZ=np.kron(Identity,sigmaz)\n",
    "    IX=np.kron(Identity,sigmax)\n",
    "    IY=np.kron(Identity,sigmay)\n",
    "    ZI=np.kron(sigmaz,Identity)\n",
    "    ZZ=np.kron(sigmaz,sigmaz)\n",
    "    ZX=np.kron(sigmaz,sigmax)\n",
    "    ZY=np.kron(sigmaz,sigmay)\n",
    "    XI=np.kron(sigmax,Identity)\n",
    "    XZ=np.kron(sigmax,sigmaz)\n",
    "    XX=np.kron(sigmax,sigmax)\n",
    "    XY=np.kron(sigmax,sigmay)\n",
    "    YI=np.kron(sigmay,Identity)\n",
    "    YZ=np.kron(sigmay,sigmaz)\n",
    "    YX=np.kron(sigmay,sigmax)\n",
    "    YY=np.kron(sigmay,sigmay)\n",
    "    pauli=[II,IZ,IX,IY,ZI,ZZ,ZX,ZY,XI,XZ,XX,XY,YI,YZ,YX,YY]\n",
    "    tags=['II','IZ','IX','IY','ZI','ZZ','ZX','ZY','XI','XZ','XX','XY','YI','YZ','YX','YY']\n",
    "    elements=np.random.rand(16,1)\n",
    "    general_m=np.zeros((4,4),dtype='complex128')\n",
    "\n",
    "    for i in range(0,len(tags)):\n",
    "        general_m+=pauli[i]*elements[i]\n",
    "    coeff={}\n",
    "    for i in range(len(tags)):\n",
    "        coeff[tags[i]]=elements[i][0]\n",
    "    return general_m,coeff\n"
   ]
  },
  {
   "cell_type": "markdown",
   "metadata": {},
   "source": [
    "# Let us check that the matrix is hermitian and see the dictionary for each of the coefficients"
   ]
  },
  {
   "cell_type": "code",
   "execution_count": 47,
   "metadata": {},
   "outputs": [],
   "source": [
    "Matriz,coeff=rando_hermitian()"
   ]
  },
  {
   "cell_type": "code",
   "execution_count": 49,
   "metadata": {},
   "outputs": [
    {
     "data": {
      "text/plain": [
       "array([[ True,  True,  True,  True],\n",
       "       [ True,  True,  True,  True],\n",
       "       [ True,  True,  True,  True],\n",
       "       [ True,  True,  True,  True]])"
      ]
     },
     "execution_count": 49,
     "metadata": {},
     "output_type": "execute_result"
    }
   ],
   "source": [
    "Matriz==np.conjugate(Matriz.T)"
   ]
  },
  {
   "cell_type": "code",
   "execution_count": 50,
   "metadata": {},
   "outputs": [
    {
     "data": {
      "text/plain": [
       "{'II': 0.5113290221874113,\n",
       " 'IZ': 0.7478101253552315,\n",
       " 'IX': 0.3371509280337114,\n",
       " 'IY': 0.764615689013728,\n",
       " 'ZI': 0.7830689764014499,\n",
       " 'ZZ': 0.4082294638327574,\n",
       " 'ZX': 0.19085456709997328,\n",
       " 'ZY': 0.6332706161301479,\n",
       " 'XI': 0.8147172621653395,\n",
       " 'XZ': 0.8559611692243015,\n",
       " 'XX': 0.06581395897140052,\n",
       " 'XY': 0.8462565374925356,\n",
       " 'YI': 0.3120437804680367,\n",
       " 'YZ': 0.22391812951263057,\n",
       " 'YX': 0.7439863902638134,\n",
       " 'YY': 0.6755959891275074}"
      ]
     },
     "execution_count": 50,
     "metadata": {},
     "output_type": "execute_result"
    }
   ],
   "source": [
    "coeff"
   ]
  },
  {
   "cell_type": "markdown",
   "metadata": {},
   "source": [
    "# Now let us just use the functions from the previous notebook"
   ]
  },
  {
   "cell_type": "code",
   "execution_count": 51,
   "metadata": {},
   "outputs": [],
   "source": [
    "def ansatz(circuit, theta):\n",
    "    q = circuit.qregs[0]\n",
    "    circuit.h(q[0])\n",
    "    circuit.cx(q[0], q[1])\n",
    "    circuit.rx(theta, q[0])\n",
    "    return circuit"
   ]
  },
  {
   "cell_type": "code",
   "execution_count": 52,
   "metadata": {},
   "outputs": [],
   "source": [
    "def two_qubit_vqe(theta, basis):\n",
    "    q = QuantumRegister(2)\n",
    "    c = ClassicalRegister(2)\n",
    "    circuit = QuantumCircuit(q, c)\n",
    "\n",
    "    # implement the ansate in the circuit\n",
    "    circuit = ansatz(circuit, theta)\n",
    "    # measurement\n",
    "    if basis == 'ZZ':\n",
    "        circuit.measure(q, c)\n",
    "    elif basis == 'XX':\n",
    "        circuit.u2(0, np.pi, q[0])\n",
    "        circuit.u2(0, np.pi, q[1])\n",
    "        circuit.measure(q[0], c[0])\n",
    "        circuit.measure(q[1], c[1])\n",
    "    elif basis == 'YY':\n",
    "        circuit.u2(0, np.pi/2, q[0])\n",
    "        circuit.u2(0, np.pi/2, q[1])\n",
    "        circuit.measure(q[0], c[0])\n",
    "        circuit.measure(q[1], c[1])\n",
    "    elif basis == 'IX':\n",
    "        circuit.u2(0, np.pi, q[1])\n",
    "        circuit.measure(q[0], c[0])\n",
    "        circuit.measure(q[1], c[1])\n",
    "    elif basis == 'IY':\n",
    "        circuit.u2(0, np.pi/2, q[1])\n",
    "        circuit.measure(q[0], c[0])\n",
    "        circuit.measure(q[1], c[1])\n",
    "    elif basis == 'IZ':\n",
    "        circuit.measure(q[0], c[0])\n",
    "        circuit.measure(q[1], c[1])\n",
    "    elif basis == 'ZI':\n",
    "        circuit.measure(q[0], c[0])\n",
    "        circuit.measure(q[1], c[1])\n",
    "    elif basis == 'ZX':\n",
    "        circuit.u2(0, np.pi, q[1])\n",
    "        circuit.measure(q[0], c[0])\n",
    "        circuit.measure(q[1], c[1])\n",
    "    elif basis == 'ZY':\n",
    "        circuit.u2(0, np.pi/2, q[1])\n",
    "        circuit.measure(q[0], c[0])\n",
    "        circuit.measure(q[1], c[1])\n",
    "    elif basis == 'XI':\n",
    "        circuit.u2(0, np.pi, q[0])\n",
    "        circuit.measure(q[0], c[0])\n",
    "        circuit.measure(q[1], c[1])\n",
    "    elif basis == 'XZ':\n",
    "        circuit.u2(0, np.pi, q[0])\n",
    "        circuit.measure(q[0], c[0])\n",
    "        circuit.measure(q[1], c[1])\n",
    "    elif basis == 'XX':\n",
    "        circuit.u2(0, np.pi, q[0])\n",
    "        circuit.u2(0, np.pi, q[1])\n",
    "        circuit.measure(q[0], c[0])\n",
    "        circuit.measure(q[1], c[1])\n",
    "    elif basis == 'XY':\n",
    "        circuit.u2(0, np.pi, q[0])\n",
    "        circuit.u2(0, np.pi/2, q[1])\n",
    "        circuit.measure(q[0], c[0])\n",
    "        circuit.measure(q[1], c[1])\n",
    "    elif basis == 'YZ':\n",
    "        circuit.u2(0, np.pi/2, q[0])\n",
    "        circuit.measure(q[0], c[0])\n",
    "        circuit.measure(q[1], c[1])\n",
    "    elif basis == 'YI':\n",
    "        circuit.u2(0, np.pi/2, q[0])\n",
    "        circuit.measure(q[0], c[0])\n",
    "        circuit.measure(q[1], c[1])\n",
    "    elif basis == 'YX':\n",
    "        circuit.u2(0, np.pi/2, q[0])\n",
    "        circuit.u2(0, np.pi, q[1])\n",
    "        circuit.measure(q[0], c[0])\n",
    "        circuit.measure(q[1], c[1])\n",
    "    else:\n",
    "        raise ValueError('Not a valid pauli basis, input should be X,Y or Z, we excluded I because no circuit is needed')\n",
    "\n",
    "    return circuit\n"
   ]
  },
  {
   "cell_type": "code",
   "execution_count": 53,
   "metadata": {},
   "outputs": [],
   "source": [
    "def get_expectation(theta, basis):\n",
    "    \n",
    "    if basis == 'II':\n",
    "        return 1\n",
    "    else:\n",
    "        circuit = two_qubit_vqe(theta, basis)\n",
    "    \n",
    "    shots = 10000 # Max\n",
    "    backend = BasicAer.get_backend('qasm_simulator')\n",
    "    job = execute(circuit, backend, shots=shots)\n",
    "    result = job.result()\n",
    "    counts = result.get_counts()\n",
    "    \n",
    "    expected_value = 0\n",
    "    for event in counts:\n",
    "        pm = 1\n",
    "        if event == '01':\n",
    "            pm = -1\n",
    "        if event == '10':\n",
    "            pm = -1\n",
    "        expected_value += pm * counts[event] / shots\n",
    "        \n",
    "    return expected_value"
   ]
  },
  {
   "cell_type": "code",
   "execution_count": 54,
   "metadata": {},
   "outputs": [],
   "source": [
    "def vqe_ground(theta):\n",
    "    sum_=0\n",
    "    tags=['II','IZ','IX','IY','ZI','ZZ','ZX','ZY','XI','XZ','XX','XY','YI','YZ','YX','YY']\n",
    "    for i in tags:\n",
    "         sum_+=coeff[i]*get_expectation(theta, i)\n",
    "\n",
    "    \n",
    "    # summing the measurement results    \n",
    "    return sum_"
   ]
  },
  {
   "cell_type": "code",
   "execution_count": 55,
   "metadata": {},
   "outputs": [
    {
     "data": {
      "text/plain": [
       "-0.6782835107814857"
      ]
     },
     "execution_count": 55,
     "metadata": {},
     "output_type": "execute_result"
    }
   ],
   "source": [
    "vqe_ground(np.pi)"
   ]
  },
  {
   "cell_type": "code",
   "execution_count": 56,
   "metadata": {},
   "outputs": [],
   "source": [
    "xxxx=np.arange(-np.pi,np.pi,np.pi/64)\n",
    "vqeeee = [ vqe_ground(i) for i in xxxx]\n"
   ]
  },
  {
   "cell_type": "code",
   "execution_count": 57,
   "metadata": {},
   "outputs": [
    {
     "data": {
      "image/png": "[encoded data removed]",
      "text/plain": [
       "<Figure size 432x288 with 1 Axes>"
      ]
     },
     "metadata": {
      "needs_background": "light"
     },
     "output_type": "display_data"
    }
   ],
   "source": [
    "import matplotlib.pyplot as plt\n",
    "plt.plot(xxxx,vqeeee)\n",
    "plt.show()"
   ]
  },
  {
   "cell_type": "markdown",
   "metadata": {},
   "source": [
    "# We can see that the estimation is not as good as with the simple matrix given in the task, next let us try running on one of IBM devices, and using different ansatzes"
   ]
  },
  {
   "cell_type": "code",
   "execution_count": 58,
   "metadata": {},
   "outputs": [
    {
     "data": {
      "text/plain": [
       "-1.7343076547230905"
      ]
     },
     "execution_count": 58,
     "metadata": {},
     "output_type": "execute_result"
    }
   ],
   "source": [
    "min(vqeeee)"
   ]
  },
  {
   "cell_type": "code",
   "execution_count": 60,
   "metadata": {},
   "outputs": [
    {
     "data": {
      "text/plain": [
       "array([ 4.47751163+2.28384048e-18j, -1.91973273-1.81292304e-17j,\n",
       "        0.04197688+6.45553712e-18j, -0.55443969+9.26565796e-17j])"
      ]
     },
     "execution_count": 60,
     "metadata": {},
     "output_type": "execute_result"
    }
   ],
   "source": [
    "np.linalg.eigvals(Matriz)"
   ]
  }
 ],
 "metadata": {
  "kernelspec": {
   "display_name": "Python 3",
   "language": "python",
   "name": "python3"
  },
  "language_info": {
   "codemirror_mode": {
    "name": "ipython",
    "version": 3
   },
   "file_extension": ".py",
   "mimetype": "text/x-python",
   "name": "python",
   "nbconvert_exporter": "python",
   "pygments_lexer": "ipython3",
   "version": "3.8.3"
  }
 },
 "nbformat": 4,
 "nbformat_minor": 4
}
